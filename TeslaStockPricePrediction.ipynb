{
 "cells": [
  {
   "cell_type": "markdown",
   "id": "603c3b0c",
   "metadata": {},
   "source": [
    "# Tesla Stock Price Prediction and Forecasting using stacked LSTM"
   ]
  },
  {
   "cell_type": "code",
   "execution_count": 2,
   "id": "ef90188b",
   "metadata": {},
   "outputs": [],
   "source": [
    "# Data collection\n",
    "import pandas_datareader as pdr"
   ]
  },
  {
   "cell_type": "code",
   "execution_count": 7,
   "id": "e34b9700",
   "metadata": {},
   "outputs": [
    {
     "name": "stderr",
     "output_type": "stream",
     "text": [
      "C:\\Users\\Ujjawal\\AppData\\Local\\Temp\\ipykernel_6924\\2516852847.py:1: FutureWarning: In a future version of pandas all arguments of concat except for the argument 'objs' will be keyword-only.\n",
      "  df = pdr.get_data_tiingo('TSLA', api_key = key)\n"
     ]
    }
   ],
   "source": [
    "df = pdr.get_data_tiingo('TSLA', api_key = key)"
   ]
  },
  {
   "cell_type": "code",
   "execution_count": 8,
   "id": "40afd088",
   "metadata": {},
   "outputs": [
    {
     "data": {
      "text/html": [
       "<div>\n",
       "<style scoped>\n",
       "    .dataframe tbody tr th:only-of-type {\n",
       "        vertical-align: middle;\n",
       "    }\n",
       "\n",
       "    .dataframe tbody tr th {\n",
       "        vertical-align: top;\n",
       "    }\n",
       "\n",
       "    .dataframe thead th {\n",
       "        text-align: right;\n",
       "    }\n",
       "</style>\n",
       "<table border=\"1\" class=\"dataframe\">\n",
       "  <thead>\n",
       "    <tr style=\"text-align: right;\">\n",
       "      <th></th>\n",
       "      <th></th>\n",
       "      <th>close</th>\n",
       "      <th>high</th>\n",
       "      <th>low</th>\n",
       "      <th>open</th>\n",
       "      <th>volume</th>\n",
       "      <th>adjClose</th>\n",
       "      <th>adjHigh</th>\n",
       "      <th>adjLow</th>\n",
       "      <th>adjOpen</th>\n",
       "      <th>adjVolume</th>\n",
       "      <th>divCash</th>\n",
       "      <th>splitFactor</th>\n",
       "    </tr>\n",
       "    <tr>\n",
       "      <th>symbol</th>\n",
       "      <th>date</th>\n",
       "      <th></th>\n",
       "      <th></th>\n",
       "      <th></th>\n",
       "      <th></th>\n",
       "      <th></th>\n",
       "      <th></th>\n",
       "      <th></th>\n",
       "      <th></th>\n",
       "      <th></th>\n",
       "      <th></th>\n",
       "      <th></th>\n",
       "      <th></th>\n",
       "    </tr>\n",
       "  </thead>\n",
       "  <tbody>\n",
       "    <tr>\n",
       "      <th rowspan=\"5\" valign=\"top\">TSLA</th>\n",
       "      <th>2019-04-22 00:00:00+00:00</th>\n",
       "      <td>262.75</td>\n",
       "      <td>269.68</td>\n",
       "      <td>262.48</td>\n",
       "      <td>269.00</td>\n",
       "      <td>12147141</td>\n",
       "      <td>17.516667</td>\n",
       "      <td>17.978667</td>\n",
       "      <td>17.498667</td>\n",
       "      <td>17.933333</td>\n",
       "      <td>182207115</td>\n",
       "      <td>0.0</td>\n",
       "      <td>1.0</td>\n",
       "    </tr>\n",
       "    <tr>\n",
       "      <th>2019-04-23 00:00:00+00:00</th>\n",
       "      <td>263.90</td>\n",
       "      <td>265.60</td>\n",
       "      <td>255.75</td>\n",
       "      <td>260.15</td>\n",
       "      <td>10943859</td>\n",
       "      <td>17.593333</td>\n",
       "      <td>17.706667</td>\n",
       "      <td>17.050000</td>\n",
       "      <td>17.343333</td>\n",
       "      <td>164157885</td>\n",
       "      <td>0.0</td>\n",
       "      <td>1.0</td>\n",
       "    </tr>\n",
       "    <tr>\n",
       "      <th>2019-04-24 00:00:00+00:00</th>\n",
       "      <td>258.66</td>\n",
       "      <td>265.32</td>\n",
       "      <td>258.00</td>\n",
       "      <td>263.85</td>\n",
       "      <td>10727454</td>\n",
       "      <td>17.244000</td>\n",
       "      <td>17.688000</td>\n",
       "      <td>17.200000</td>\n",
       "      <td>17.590000</td>\n",
       "      <td>160911810</td>\n",
       "      <td>0.0</td>\n",
       "      <td>1.0</td>\n",
       "    </tr>\n",
       "    <tr>\n",
       "      <th>2019-04-25 00:00:00+00:00</th>\n",
       "      <td>247.63</td>\n",
       "      <td>259.00</td>\n",
       "      <td>246.07</td>\n",
       "      <td>255.00</td>\n",
       "      <td>21849393</td>\n",
       "      <td>16.508667</td>\n",
       "      <td>17.266667</td>\n",
       "      <td>16.404667</td>\n",
       "      <td>17.000000</td>\n",
       "      <td>327740895</td>\n",
       "      <td>0.0</td>\n",
       "      <td>1.0</td>\n",
       "    </tr>\n",
       "    <tr>\n",
       "      <th>2019-04-26 00:00:00+00:00</th>\n",
       "      <td>235.14</td>\n",
       "      <td>246.68</td>\n",
       "      <td>231.13</td>\n",
       "      <td>246.50</td>\n",
       "      <td>22360709</td>\n",
       "      <td>15.676000</td>\n",
       "      <td>16.445333</td>\n",
       "      <td>15.408667</td>\n",
       "      <td>16.433333</td>\n",
       "      <td>335410635</td>\n",
       "      <td>0.0</td>\n",
       "      <td>1.0</td>\n",
       "    </tr>\n",
       "  </tbody>\n",
       "</table>\n",
       "</div>"
      ],
      "text/plain": [
       "                                   close    high     low    open    volume  \\\n",
       "symbol date                                                                  \n",
       "TSLA   2019-04-22 00:00:00+00:00  262.75  269.68  262.48  269.00  12147141   \n",
       "       2019-04-23 00:00:00+00:00  263.90  265.60  255.75  260.15  10943859   \n",
       "       2019-04-24 00:00:00+00:00  258.66  265.32  258.00  263.85  10727454   \n",
       "       2019-04-25 00:00:00+00:00  247.63  259.00  246.07  255.00  21849393   \n",
       "       2019-04-26 00:00:00+00:00  235.14  246.68  231.13  246.50  22360709   \n",
       "\n",
       "                                   adjClose    adjHigh     adjLow    adjOpen  \\\n",
       "symbol date                                                                    \n",
       "TSLA   2019-04-22 00:00:00+00:00  17.516667  17.978667  17.498667  17.933333   \n",
       "       2019-04-23 00:00:00+00:00  17.593333  17.706667  17.050000  17.343333   \n",
       "       2019-04-24 00:00:00+00:00  17.244000  17.688000  17.200000  17.590000   \n",
       "       2019-04-25 00:00:00+00:00  16.508667  17.266667  16.404667  17.000000   \n",
       "       2019-04-26 00:00:00+00:00  15.676000  16.445333  15.408667  16.433333   \n",
       "\n",
       "                                  adjVolume  divCash  splitFactor  \n",
       "symbol date                                                        \n",
       "TSLA   2019-04-22 00:00:00+00:00  182207115      0.0          1.0  \n",
       "       2019-04-23 00:00:00+00:00  164157885      0.0          1.0  \n",
       "       2019-04-24 00:00:00+00:00  160911810      0.0          1.0  \n",
       "       2019-04-25 00:00:00+00:00  327740895      0.0          1.0  \n",
       "       2019-04-26 00:00:00+00:00  335410635      0.0          1.0  "
      ]
     },
     "execution_count": 8,
     "metadata": {},
     "output_type": "execute_result"
    }
   ],
   "source": [
    "df.head()"
   ]
  },
  {
   "cell_type": "code",
   "execution_count": 9,
   "id": "f009ce65",
   "metadata": {},
   "outputs": [
    {
     "data": {
      "text/html": [
       "<div>\n",
       "<style scoped>\n",
       "    .dataframe tbody tr th:only-of-type {\n",
       "        vertical-align: middle;\n",
       "    }\n",
       "\n",
       "    .dataframe tbody tr th {\n",
       "        vertical-align: top;\n",
       "    }\n",
       "\n",
       "    .dataframe thead th {\n",
       "        text-align: right;\n",
       "    }\n",
       "</style>\n",
       "<table border=\"1\" class=\"dataframe\">\n",
       "  <thead>\n",
       "    <tr style=\"text-align: right;\">\n",
       "      <th></th>\n",
       "      <th></th>\n",
       "      <th>close</th>\n",
       "      <th>high</th>\n",
       "      <th>low</th>\n",
       "      <th>open</th>\n",
       "      <th>volume</th>\n",
       "      <th>adjClose</th>\n",
       "      <th>adjHigh</th>\n",
       "      <th>adjLow</th>\n",
       "      <th>adjOpen</th>\n",
       "      <th>adjVolume</th>\n",
       "      <th>divCash</th>\n",
       "      <th>splitFactor</th>\n",
       "    </tr>\n",
       "    <tr>\n",
       "      <th>symbol</th>\n",
       "      <th>date</th>\n",
       "      <th></th>\n",
       "      <th></th>\n",
       "      <th></th>\n",
       "      <th></th>\n",
       "      <th></th>\n",
       "      <th></th>\n",
       "      <th></th>\n",
       "      <th></th>\n",
       "      <th></th>\n",
       "      <th></th>\n",
       "      <th></th>\n",
       "      <th></th>\n",
       "    </tr>\n",
       "  </thead>\n",
       "  <tbody>\n",
       "    <tr>\n",
       "      <th rowspan=\"5\" valign=\"top\">TSLA</th>\n",
       "      <th>2024-04-15 00:00:00+00:00</th>\n",
       "      <td>161.48</td>\n",
       "      <td>170.69</td>\n",
       "      <td>161.38</td>\n",
       "      <td>170.240</td>\n",
       "      <td>100245310</td>\n",
       "      <td>161.48</td>\n",
       "      <td>170.69</td>\n",
       "      <td>161.38</td>\n",
       "      <td>170.240</td>\n",
       "      <td>100245310</td>\n",
       "      <td>0.0</td>\n",
       "      <td>1.0</td>\n",
       "    </tr>\n",
       "    <tr>\n",
       "      <th>2024-04-16 00:00:00+00:00</th>\n",
       "      <td>157.11</td>\n",
       "      <td>158.19</td>\n",
       "      <td>153.75</td>\n",
       "      <td>156.742</td>\n",
       "      <td>96999956</td>\n",
       "      <td>157.11</td>\n",
       "      <td>158.19</td>\n",
       "      <td>153.75</td>\n",
       "      <td>156.742</td>\n",
       "      <td>96999956</td>\n",
       "      <td>0.0</td>\n",
       "      <td>1.0</td>\n",
       "    </tr>\n",
       "    <tr>\n",
       "      <th>2024-04-17 00:00:00+00:00</th>\n",
       "      <td>155.45</td>\n",
       "      <td>158.33</td>\n",
       "      <td>153.78</td>\n",
       "      <td>157.640</td>\n",
       "      <td>82439718</td>\n",
       "      <td>155.45</td>\n",
       "      <td>158.33</td>\n",
       "      <td>153.78</td>\n",
       "      <td>157.640</td>\n",
       "      <td>82439718</td>\n",
       "      <td>0.0</td>\n",
       "      <td>1.0</td>\n",
       "    </tr>\n",
       "    <tr>\n",
       "      <th>2024-04-18 00:00:00+00:00</th>\n",
       "      <td>149.93</td>\n",
       "      <td>152.20</td>\n",
       "      <td>148.70</td>\n",
       "      <td>151.250</td>\n",
       "      <td>96098830</td>\n",
       "      <td>149.93</td>\n",
       "      <td>152.20</td>\n",
       "      <td>148.70</td>\n",
       "      <td>151.250</td>\n",
       "      <td>96098830</td>\n",
       "      <td>0.0</td>\n",
       "      <td>1.0</td>\n",
       "    </tr>\n",
       "    <tr>\n",
       "      <th>2024-04-19 00:00:00+00:00</th>\n",
       "      <td>147.05</td>\n",
       "      <td>150.94</td>\n",
       "      <td>146.22</td>\n",
       "      <td>148.970</td>\n",
       "      <td>87074500</td>\n",
       "      <td>147.05</td>\n",
       "      <td>150.94</td>\n",
       "      <td>146.22</td>\n",
       "      <td>148.970</td>\n",
       "      <td>87074500</td>\n",
       "      <td>0.0</td>\n",
       "      <td>1.0</td>\n",
       "    </tr>\n",
       "  </tbody>\n",
       "</table>\n",
       "</div>"
      ],
      "text/plain": [
       "                                   close    high     low     open     volume  \\\n",
       "symbol date                                                                    \n",
       "TSLA   2024-04-15 00:00:00+00:00  161.48  170.69  161.38  170.240  100245310   \n",
       "       2024-04-16 00:00:00+00:00  157.11  158.19  153.75  156.742   96999956   \n",
       "       2024-04-17 00:00:00+00:00  155.45  158.33  153.78  157.640   82439718   \n",
       "       2024-04-18 00:00:00+00:00  149.93  152.20  148.70  151.250   96098830   \n",
       "       2024-04-19 00:00:00+00:00  147.05  150.94  146.22  148.970   87074500   \n",
       "\n",
       "                                  adjClose  adjHigh  adjLow  adjOpen  \\\n",
       "symbol date                                                            \n",
       "TSLA   2024-04-15 00:00:00+00:00    161.48   170.69  161.38  170.240   \n",
       "       2024-04-16 00:00:00+00:00    157.11   158.19  153.75  156.742   \n",
       "       2024-04-17 00:00:00+00:00    155.45   158.33  153.78  157.640   \n",
       "       2024-04-18 00:00:00+00:00    149.93   152.20  148.70  151.250   \n",
       "       2024-04-19 00:00:00+00:00    147.05   150.94  146.22  148.970   \n",
       "\n",
       "                                  adjVolume  divCash  splitFactor  \n",
       "symbol date                                                        \n",
       "TSLA   2024-04-15 00:00:00+00:00  100245310      0.0          1.0  \n",
       "       2024-04-16 00:00:00+00:00   96999956      0.0          1.0  \n",
       "       2024-04-17 00:00:00+00:00   82439718      0.0          1.0  \n",
       "       2024-04-18 00:00:00+00:00   96098830      0.0          1.0  \n",
       "       2024-04-19 00:00:00+00:00   87074500      0.0          1.0  "
      ]
     },
     "execution_count": 9,
     "metadata": {},
     "output_type": "execute_result"
    }
   ],
   "source": [
    "df.tail()"
   ]
  },
  {
   "cell_type": "code",
   "execution_count": 10,
   "id": "1c6d0623",
   "metadata": {},
   "outputs": [
    {
     "data": {
      "text/plain": [
       "(1259, 12)"
      ]
     },
     "execution_count": 10,
     "metadata": {},
     "output_type": "execute_result"
    }
   ],
   "source": [
    "df.shape"
   ]
  },
  {
   "cell_type": "code",
   "execution_count": 11,
   "id": "e30ae1c4",
   "metadata": {},
   "outputs": [],
   "source": [
    "df.to_csv('TSLA.csv')"
   ]
  },
  {
   "cell_type": "code",
   "execution_count": 12,
   "id": "6d4c6f25",
   "metadata": {},
   "outputs": [],
   "source": [
    "import pandas as pd"
   ]
  },
  {
   "cell_type": "code",
   "execution_count": 13,
   "id": "8882a253",
   "metadata": {},
   "outputs": [],
   "source": [
    "df = pd.read_csv('TSLA.csv')"
   ]
  },
  {
   "cell_type": "code",
   "execution_count": 14,
   "id": "b0029962",
   "metadata": {},
   "outputs": [
    {
     "data": {
      "text/html": [
       "<div>\n",
       "<style scoped>\n",
       "    .dataframe tbody tr th:only-of-type {\n",
       "        vertical-align: middle;\n",
       "    }\n",
       "\n",
       "    .dataframe tbody tr th {\n",
       "        vertical-align: top;\n",
       "    }\n",
       "\n",
       "    .dataframe thead th {\n",
       "        text-align: right;\n",
       "    }\n",
       "</style>\n",
       "<table border=\"1\" class=\"dataframe\">\n",
       "  <thead>\n",
       "    <tr style=\"text-align: right;\">\n",
       "      <th></th>\n",
       "      <th>symbol</th>\n",
       "      <th>date</th>\n",
       "      <th>close</th>\n",
       "      <th>high</th>\n",
       "      <th>low</th>\n",
       "      <th>open</th>\n",
       "      <th>volume</th>\n",
       "      <th>adjClose</th>\n",
       "      <th>adjHigh</th>\n",
       "      <th>adjLow</th>\n",
       "      <th>adjOpen</th>\n",
       "      <th>adjVolume</th>\n",
       "      <th>divCash</th>\n",
       "      <th>splitFactor</th>\n",
       "    </tr>\n",
       "  </thead>\n",
       "  <tbody>\n",
       "    <tr>\n",
       "      <th>0</th>\n",
       "      <td>TSLA</td>\n",
       "      <td>2019-04-22 00:00:00+00:00</td>\n",
       "      <td>262.75</td>\n",
       "      <td>269.68</td>\n",
       "      <td>262.48</td>\n",
       "      <td>269.00</td>\n",
       "      <td>12147141</td>\n",
       "      <td>17.516667</td>\n",
       "      <td>17.978667</td>\n",
       "      <td>17.498667</td>\n",
       "      <td>17.933333</td>\n",
       "      <td>182207115</td>\n",
       "      <td>0.0</td>\n",
       "      <td>1.0</td>\n",
       "    </tr>\n",
       "    <tr>\n",
       "      <th>1</th>\n",
       "      <td>TSLA</td>\n",
       "      <td>2019-04-23 00:00:00+00:00</td>\n",
       "      <td>263.90</td>\n",
       "      <td>265.60</td>\n",
       "      <td>255.75</td>\n",
       "      <td>260.15</td>\n",
       "      <td>10943859</td>\n",
       "      <td>17.593333</td>\n",
       "      <td>17.706667</td>\n",
       "      <td>17.050000</td>\n",
       "      <td>17.343333</td>\n",
       "      <td>164157885</td>\n",
       "      <td>0.0</td>\n",
       "      <td>1.0</td>\n",
       "    </tr>\n",
       "    <tr>\n",
       "      <th>2</th>\n",
       "      <td>TSLA</td>\n",
       "      <td>2019-04-24 00:00:00+00:00</td>\n",
       "      <td>258.66</td>\n",
       "      <td>265.32</td>\n",
       "      <td>258.00</td>\n",
       "      <td>263.85</td>\n",
       "      <td>10727454</td>\n",
       "      <td>17.244000</td>\n",
       "      <td>17.688000</td>\n",
       "      <td>17.200000</td>\n",
       "      <td>17.590000</td>\n",
       "      <td>160911810</td>\n",
       "      <td>0.0</td>\n",
       "      <td>1.0</td>\n",
       "    </tr>\n",
       "    <tr>\n",
       "      <th>3</th>\n",
       "      <td>TSLA</td>\n",
       "      <td>2019-04-25 00:00:00+00:00</td>\n",
       "      <td>247.63</td>\n",
       "      <td>259.00</td>\n",
       "      <td>246.07</td>\n",
       "      <td>255.00</td>\n",
       "      <td>21849393</td>\n",
       "      <td>16.508667</td>\n",
       "      <td>17.266667</td>\n",
       "      <td>16.404667</td>\n",
       "      <td>17.000000</td>\n",
       "      <td>327740895</td>\n",
       "      <td>0.0</td>\n",
       "      <td>1.0</td>\n",
       "    </tr>\n",
       "    <tr>\n",
       "      <th>4</th>\n",
       "      <td>TSLA</td>\n",
       "      <td>2019-04-26 00:00:00+00:00</td>\n",
       "      <td>235.14</td>\n",
       "      <td>246.68</td>\n",
       "      <td>231.13</td>\n",
       "      <td>246.50</td>\n",
       "      <td>22360709</td>\n",
       "      <td>15.676000</td>\n",
       "      <td>16.445333</td>\n",
       "      <td>15.408667</td>\n",
       "      <td>16.433333</td>\n",
       "      <td>335410635</td>\n",
       "      <td>0.0</td>\n",
       "      <td>1.0</td>\n",
       "    </tr>\n",
       "  </tbody>\n",
       "</table>\n",
       "</div>"
      ],
      "text/plain": [
       "  symbol                       date   close    high     low    open    volume  \\\n",
       "0   TSLA  2019-04-22 00:00:00+00:00  262.75  269.68  262.48  269.00  12147141   \n",
       "1   TSLA  2019-04-23 00:00:00+00:00  263.90  265.60  255.75  260.15  10943859   \n",
       "2   TSLA  2019-04-24 00:00:00+00:00  258.66  265.32  258.00  263.85  10727454   \n",
       "3   TSLA  2019-04-25 00:00:00+00:00  247.63  259.00  246.07  255.00  21849393   \n",
       "4   TSLA  2019-04-26 00:00:00+00:00  235.14  246.68  231.13  246.50  22360709   \n",
       "\n",
       "    adjClose    adjHigh     adjLow    adjOpen  adjVolume  divCash  splitFactor  \n",
       "0  17.516667  17.978667  17.498667  17.933333  182207115      0.0          1.0  \n",
       "1  17.593333  17.706667  17.050000  17.343333  164157885      0.0          1.0  \n",
       "2  17.244000  17.688000  17.200000  17.590000  160911810      0.0          1.0  \n",
       "3  16.508667  17.266667  16.404667  17.000000  327740895      0.0          1.0  \n",
       "4  15.676000  16.445333  15.408667  16.433333  335410635      0.0          1.0  "
      ]
     },
     "execution_count": 14,
     "metadata": {},
     "output_type": "execute_result"
    }
   ],
   "source": [
    "df.head()"
   ]
  },
  {
   "cell_type": "code",
   "execution_count": 15,
   "id": "0ad30d4b",
   "metadata": {},
   "outputs": [],
   "source": [
    "# We'll be doing forecasting of only the close prices of the stock\n",
    "\n",
    "data = df.reset_index()['adjClose']"
   ]
  },
  {
   "cell_type": "code",
   "execution_count": 16,
   "id": "32406862",
   "metadata": {},
   "outputs": [
    {
     "data": {
      "text/plain": [
       "(1259,)"
      ]
     },
     "execution_count": 16,
     "metadata": {},
     "output_type": "execute_result"
    }
   ],
   "source": [
    "data.shape"
   ]
  },
  {
   "cell_type": "code",
   "execution_count": 17,
   "id": "bfcb9d0d",
   "metadata": {},
   "outputs": [
    {
     "data": {
      "text/plain": [
       "[<matplotlib.lines.Line2D at 0x15c6e435cc0>]"
      ]
     },
     "execution_count": 17,
     "metadata": {},
     "output_type": "execute_result"
    },
    {
     "data": {
      "image/png": "[encoded data removed]",
      "text/plain": [
       "<Figure size 640x480 with 1 Axes>"
      ]
     },
     "metadata": {},
     "output_type": "display_data"
    }
   ],
   "source": [
    "# Visualizing the close price over the years\n",
    "\n",
    "import matplotlib.pyplot as plt\n",
    "plt.plot(data)"
   ]
  },
  {
   "cell_type": "code",
   "execution_count": 18,
   "id": "2ac2cebc",
   "metadata": {},
   "outputs": [],
   "source": [
    "# LSTM are sensitive to the scale of data, so we'll be using MinMaxScaler to resolve that issue"
   ]
  },
  {
   "cell_type": "code",
   "execution_count": 19,
   "id": "f2f09675",
   "metadata": {},
   "outputs": [],
   "source": [
    "import numpy as np"
   ]
  },
  {
   "cell_type": "code",
   "execution_count": 20,
   "id": "ee40f4c2",
   "metadata": {},
   "outputs": [],
   "source": [
    "from sklearn.preprocessing import MinMaxScaler"
   ]
  },
  {
   "cell_type": "code",
   "execution_count": 21,
   "id": "1667641c",
   "metadata": {},
   "outputs": [],
   "source": [
    "scaler = MinMaxScaler(feature_range=(0,1))\n",
    "data = scaler.fit_transform(np.array(data).reshape(-1,1))"
   ]
  },
  {
   "cell_type": "code",
   "execution_count": 22,
   "id": "a0b2ad7d",
   "metadata": {},
   "outputs": [
    {
     "data": {
      "text/plain": [
       "(1259, 1)"
      ]
     },
     "execution_count": 22,
     "metadata": {},
     "output_type": "execute_result"
    }
   ],
   "source": [
    "data.shape"
   ]
  },
  {
   "cell_type": "code",
   "execution_count": 23,
   "id": "eddb4eac",
   "metadata": {},
   "outputs": [],
   "source": [
    "# Splitting dataset into training and testing data"
   ]
  },
  {
   "cell_type": "code",
   "execution_count": 24,
   "id": "7250fcd8",
   "metadata": {},
   "outputs": [],
   "source": [
    "train_size = int(len(data)*0.7)\n",
    "test_size = len(data)-train_size"
   ]
  },
  {
   "cell_type": "code",
   "execution_count": 25,
   "id": "8f619685",
   "metadata": {},
   "outputs": [],
   "source": [
    "train_data, test_data = data[0:train_size,:], data[train_size:len(data),:1]"
   ]
  },
  {
   "cell_type": "code",
   "execution_count": 26,
   "id": "a7ec8e5f",
   "metadata": {},
   "outputs": [
    {
     "data": {
      "text/plain": [
       "(881, 378)"
      ]
     },
     "execution_count": 26,
     "metadata": {},
     "output_type": "execute_result"
    }
   ],
   "source": [
    "train_size, test_size"
   ]
  },
  {
   "cell_type": "code",
   "execution_count": 27,
   "id": "de2c90d0",
   "metadata": {},
   "outputs": [],
   "source": [
    "# Convert an array of values into a dataset matrix\n",
    "\n",
    "def create_dataset(dataset, time_step=1):\n",
    "    dataX, dataY = [], []\n",
    "    for i in range(len(dataset)-time_step-1):\n",
    "        a = dataset[i:(i+time_step),0]\n",
    "        dataX.append(a)\n",
    "        dataY.append(dataset[i+time_step,0])\n",
    "    return np.array(dataX), np.array(dataY)"
   ]
  },
  {
   "cell_type": "code",
   "execution_count": 28,
   "id": "fd77a89f",
   "metadata": {},
   "outputs": [],
   "source": [
    "time_step = 100\n",
    "train_X, train_Y = create_dataset(train_data,time_step)\n",
    "test_X, test_Y = create_dataset(test_data, time_step)"
   ]
  },
  {
   "cell_type": "code",
   "execution_count": 30,
   "id": "f58f3803",
   "metadata": {},
   "outputs": [
    {
     "data": {
      "text/plain": [
       "array([[0.01403214, 0.01422475, 0.01334711, ..., 0.00884671, 0.00947479,\n",
       "        0.01141095],\n",
       "       [0.01422475, 0.01334711, 0.01149972, ..., 0.00947479, 0.01141095,\n",
       "        0.01120494],\n",
       "       [0.01334711, 0.01149972, 0.0094078 , ..., 0.01141095, 0.01120494,\n",
       "        0.01109272],\n",
       "       ...,\n",
       "       [0.56412107, 0.52600082, 0.53521266, ..., 0.53044763, 0.53017127,\n",
       "        0.51394169],\n",
       "       [0.52600082, 0.53521266, 0.49607073, ..., 0.53017127, 0.51394169,\n",
       "        0.51580081],\n",
       "       [0.53521266, 0.49607073, 0.52172988, ..., 0.51394169, 0.51580081,\n",
       "        0.527056  ]])"
      ]
     },
     "execution_count": 30,
     "metadata": {},
     "output_type": "execute_result"
    }
   ],
   "source": [
    "train_X"
   ]
  },
  {
   "cell_type": "code",
   "execution_count": 31,
   "id": "4a54545a",
   "metadata": {},
   "outputs": [
    {
     "data": {
      "text/plain": [
       "((780, 100), (780,))"
      ]
     },
     "execution_count": 31,
     "metadata": {},
     "output_type": "execute_result"
    }
   ],
   "source": [
    "train_X.shape, train_Y.shape"
   ]
  },
  {
   "cell_type": "code",
   "execution_count": 32,
   "id": "f8da835a",
   "metadata": {},
   "outputs": [
    {
     "data": {
      "text/plain": [
       "((277, 100), (277,))"
      ]
     },
     "execution_count": 32,
     "metadata": {},
     "output_type": "execute_result"
    }
   ],
   "source": [
    "test_X.shape, test_Y.shape"
   ]
  },
  {
   "cell_type": "code",
   "execution_count": 33,
   "id": "3470c110",
   "metadata": {},
   "outputs": [],
   "source": [
    "# reshaping into 3D, which is required for LSTM - [samples, time steps, features]"
   ]
  },
  {
   "cell_type": "code",
   "execution_count": 34,
   "id": "8afa6e76",
   "metadata": {},
   "outputs": [],
   "source": [
    "train_X = train_X.reshape(train_X.shape[0], train_X.shape[1], 1)\n",
    "test_X = test_X.reshape(test_X.shape[0], test_X.shape[1], 1)"
   ]
  },
  {
   "cell_type": "code",
   "execution_count": 35,
   "id": "0f2cf6c6",
   "metadata": {},
   "outputs": [
    {
     "name": "stdout",
     "output_type": "stream",
     "text": [
      "WARNING:tensorflow:From D:\\Users\\Ujjawal\\anaconda3\\lib\\site-packages\\keras\\src\\losses.py:2976: The name tf.losses.sparse_softmax_cross_entropy is deprecated. Please use tf.compat.v1.losses.sparse_softmax_cross_entropy instead.\n",
      "\n"
     ]
    }
   ],
   "source": [
    "# Creating the stacked LSTM Model\n",
    "from tensorflow.keras.models import Sequential\n",
    "from tensorflow.keras.layers import Dense\n",
    "from tensorflow.keras.layers import LSTM"
   ]
  },
  {
   "cell_type": "code",
   "execution_count": 36,
   "id": "523b01ad",
   "metadata": {},
   "outputs": [
    {
     "name": "stdout",
     "output_type": "stream",
     "text": [
      "WARNING:tensorflow:From D:\\Users\\Ujjawal\\anaconda3\\lib\\site-packages\\keras\\src\\backend.py:873: The name tf.get_default_graph is deprecated. Please use tf.compat.v1.get_default_graph instead.\n",
      "\n",
      "WARNING:tensorflow:From D:\\Users\\Ujjawal\\anaconda3\\lib\\site-packages\\keras\\src\\optimizers\\__init__.py:309: The name tf.train.Optimizer is deprecated. Please use tf.compat.v1.train.Optimizer instead.\n",
      "\n"
     ]
    }
   ],
   "source": [
    "model = Sequential()\n",
    "model.add(LSTM(50, return_sequences = True, input_shape = (100,1)))\n",
    "model.add(LSTM(50, return_sequences = True))\n",
    "model.add(LSTM(50))\n",
    "model.add(Dense(1))\n",
    "model.compile(loss = 'mean_squared_error', optimizer = 'adam')"
   ]
  },
  {
   "cell_type": "code",
   "execution_count": 37,
   "id": "6f8238cc",
   "metadata": {},
   "outputs": [
    {
     "name": "stdout",
     "output_type": "stream",
     "text": [
      "Model: \"sequential\"\n",
      "_________________________________________________________________\n",
      " Layer (type)                Output Shape              Param #   \n",
      "=================================================================\n",
      " lstm (LSTM)                 (None, 100, 50)           10400     \n",
      "                                                                 \n",
      " lstm_1 (LSTM)               (None, 100, 50)           20200     \n",
      "                                                                 \n",
      " lstm_2 (LSTM)               (None, 50)                20200     \n",
      "                                                                 \n",
      " dense (Dense)               (None, 1)                 51        \n",
      "                                                                 \n",
      "=================================================================\n",
      "Total params: 50851 (198.64 KB)\n",
      "Trainable params: 50851 (198.64 KB)\n",
      "Non-trainable params: 0 (0.00 Byte)\n",
      "_________________________________________________________________\n"
     ]
    }
   ],
   "source": [
    "model.summary()"
   ]
  },
  {
   "cell_type": "code",
   "execution_count": 38,
   "id": "c50859a6",
   "metadata": {},
   "outputs": [
    {
     "name": "stdout",
     "output_type": "stream",
     "text": [
      "Epoch 1/100\n",
      "WARNING:tensorflow:From D:\\Users\\Ujjawal\\anaconda3\\lib\\site-packages\\keras\\src\\utils\\tf_utils.py:492: The name tf.ragged.RaggedTensorValue is deprecated. Please use tf.compat.v1.ragged.RaggedTensorValue instead.\n",
      "\n",
      "13/13 [==============================] - 13s 348ms/step - loss: 0.0872 - val_loss: 0.0082\n",
      "Epoch 2/100\n",
      "13/13 [==============================] - 2s 160ms/step - loss: 0.0132 - val_loss: 0.0113\n",
      "Epoch 3/100\n",
      "13/13 [==============================] - 3s 212ms/step - loss: 0.0064 - val_loss: 0.0050\n",
      "Epoch 4/100\n",
      "13/13 [==============================] - 2s 178ms/step - loss: 0.0049 - val_loss: 0.0029\n",
      "Epoch 5/100\n",
      "13/13 [==============================] - 3s 195ms/step - loss: 0.0039 - val_loss: 0.0028\n",
      "Epoch 6/100\n",
      "13/13 [==============================] - 2s 190ms/step - loss: 0.0039 - val_loss: 0.0029\n",
      "Epoch 7/100\n",
      "13/13 [==============================] - 2s 176ms/step - loss: 0.0038 - val_loss: 0.0035\n",
      "Epoch 8/100\n",
      "13/13 [==============================] - 2s 181ms/step - loss: 0.0038 - val_loss: 0.0027\n",
      "Epoch 9/100\n",
      "13/13 [==============================] - 3s 205ms/step - loss: 0.0037 - val_loss: 0.0034\n",
      "Epoch 10/100\n",
      "13/13 [==============================] - 2s 179ms/step - loss: 0.0034 - val_loss: 0.0029\n",
      "Epoch 11/100\n",
      "13/13 [==============================] - 3s 202ms/step - loss: 0.0033 - val_loss: 0.0025\n",
      "Epoch 12/100\n",
      "13/13 [==============================] - 2s 187ms/step - loss: 0.0033 - val_loss: 0.0028\n",
      "Epoch 13/100\n",
      "13/13 [==============================] - 2s 178ms/step - loss: 0.0032 - val_loss: 0.0041\n",
      "Epoch 14/100\n",
      "13/13 [==============================] - 2s 176ms/step - loss: 0.0033 - val_loss: 0.0023\n",
      "Epoch 15/100\n",
      "13/13 [==============================] - 2s 189ms/step - loss: 0.0031 - val_loss: 0.0021\n",
      "Epoch 16/100\n",
      "13/13 [==============================] - 3s 194ms/step - loss: 0.0029 - val_loss: 0.0022\n",
      "Epoch 17/100\n",
      "13/13 [==============================] - 2s 181ms/step - loss: 0.0029 - val_loss: 0.0024\n",
      "Epoch 18/100\n",
      "13/13 [==============================] - 2s 189ms/step - loss: 0.0028 - val_loss: 0.0025\n",
      "Epoch 19/100\n",
      "13/13 [==============================] - 2s 175ms/step - loss: 0.0026 - val_loss: 0.0020\n",
      "Epoch 20/100\n",
      "13/13 [==============================] - 2s 186ms/step - loss: 0.0025 - val_loss: 0.0024\n",
      "Epoch 21/100\n",
      "13/13 [==============================] - 2s 183ms/step - loss: 0.0024 - val_loss: 0.0022\n",
      "Epoch 22/100\n",
      "13/13 [==============================] - 3s 204ms/step - loss: 0.0025 - val_loss: 0.0025\n",
      "Epoch 23/100\n",
      "13/13 [==============================] - 2s 176ms/step - loss: 0.0024 - val_loss: 0.0017\n",
      "Epoch 24/100\n",
      "13/13 [==============================] - 2s 170ms/step - loss: 0.0024 - val_loss: 0.0024\n",
      "Epoch 25/100\n",
      "13/13 [==============================] - 2s 181ms/step - loss: 0.0022 - val_loss: 0.0019\n",
      "Epoch 26/100\n",
      "13/13 [==============================] - 3s 197ms/step - loss: 0.0023 - val_loss: 0.0015\n",
      "Epoch 27/100\n",
      "13/13 [==============================] - 2s 185ms/step - loss: 0.0021 - val_loss: 0.0019\n",
      "Epoch 28/100\n",
      "13/13 [==============================] - 3s 201ms/step - loss: 0.0020 - val_loss: 0.0015\n",
      "Epoch 29/100\n",
      "13/13 [==============================] - 2s 175ms/step - loss: 0.0022 - val_loss: 0.0032\n",
      "Epoch 30/100\n",
      "13/13 [==============================] - 3s 205ms/step - loss: 0.0026 - val_loss: 0.0014\n",
      "Epoch 31/100\n",
      "13/13 [==============================] - 2s 181ms/step - loss: 0.0020 - val_loss: 0.0016\n",
      "Epoch 32/100\n",
      "13/13 [==============================] - 2s 176ms/step - loss: 0.0020 - val_loss: 0.0015\n",
      "Epoch 33/100\n",
      "13/13 [==============================] - 2s 185ms/step - loss: 0.0021 - val_loss: 0.0023\n",
      "Epoch 34/100\n",
      "13/13 [==============================] - 3s 204ms/step - loss: 0.0021 - val_loss: 0.0013\n",
      "Epoch 35/100\n",
      "13/13 [==============================] - 3s 227ms/step - loss: 0.0020 - val_loss: 0.0021\n",
      "Epoch 36/100\n",
      "13/13 [==============================] - 2s 174ms/step - loss: 0.0018 - val_loss: 0.0013\n",
      "Epoch 37/100\n",
      "13/13 [==============================] - 2s 165ms/step - loss: 0.0018 - val_loss: 0.0013\n",
      "Epoch 38/100\n",
      "13/13 [==============================] - 3s 207ms/step - loss: 0.0017 - val_loss: 0.0013\n",
      "Epoch 39/100\n",
      "13/13 [==============================] - 2s 185ms/step - loss: 0.0017 - val_loss: 0.0011\n",
      "Epoch 40/100\n",
      "13/13 [==============================] - 3s 207ms/step - loss: 0.0017 - val_loss: 0.0012\n",
      "Epoch 41/100\n",
      "13/13 [==============================] - 3s 192ms/step - loss: 0.0016 - val_loss: 0.0011\n",
      "Epoch 42/100\n",
      "13/13 [==============================] - 2s 177ms/step - loss: 0.0016 - val_loss: 0.0014\n",
      "Epoch 43/100\n",
      "13/13 [==============================] - 2s 159ms/step - loss: 0.0016 - val_loss: 0.0011\n",
      "Epoch 44/100\n",
      "13/13 [==============================] - 2s 164ms/step - loss: 0.0015 - val_loss: 9.9736e-04\n",
      "Epoch 45/100\n",
      "13/13 [==============================] - 2s 166ms/step - loss: 0.0017 - val_loss: 0.0010\n",
      "Epoch 46/100\n",
      "13/13 [==============================] - 2s 176ms/step - loss: 0.0014 - val_loss: 9.8431e-04\n",
      "Epoch 47/100\n",
      "13/13 [==============================] - 2s 175ms/step - loss: 0.0015 - val_loss: 0.0011\n",
      "Epoch 48/100\n",
      "13/13 [==============================] - 2s 182ms/step - loss: 0.0014 - val_loss: 9.3987e-04\n",
      "Epoch 49/100\n",
      "13/13 [==============================] - 2s 168ms/step - loss: 0.0013 - val_loss: 0.0010\n",
      "Epoch 50/100\n",
      "13/13 [==============================] - 2s 159ms/step - loss: 0.0014 - val_loss: 8.6863e-04\n",
      "Epoch 51/100\n",
      "13/13 [==============================] - 3s 223ms/step - loss: 0.0014 - val_loss: 0.0020\n",
      "Epoch 52/100\n",
      "13/13 [==============================] - 2s 187ms/step - loss: 0.0014 - val_loss: 8.1467e-04\n",
      "Epoch 53/100\n",
      "13/13 [==============================] - 2s 179ms/step - loss: 0.0014 - val_loss: 9.3296e-04\n",
      "Epoch 54/100\n",
      "13/13 [==============================] - 2s 174ms/step - loss: 0.0017 - val_loss: 0.0012\n",
      "Epoch 55/100\n",
      "13/13 [==============================] - 3s 199ms/step - loss: 0.0013 - val_loss: 0.0015\n",
      "Epoch 56/100\n",
      "13/13 [==============================] - 2s 189ms/step - loss: 0.0012 - val_loss: 8.2582e-04\n",
      "Epoch 57/100\n",
      "13/13 [==============================] - 2s 163ms/step - loss: 0.0011 - val_loss: 7.3456e-04\n",
      "Epoch 58/100\n",
      "13/13 [==============================] - 2s 164ms/step - loss: 0.0011 - val_loss: 0.0012\n",
      "Epoch 59/100\n",
      "13/13 [==============================] - 2s 191ms/step - loss: 0.0012 - val_loss: 7.5859e-04\n",
      "Epoch 60/100\n",
      "13/13 [==============================] - 3s 198ms/step - loss: 0.0011 - val_loss: 7.9369e-04\n",
      "Epoch 61/100\n",
      "13/13 [==============================] - 3s 198ms/step - loss: 0.0012 - val_loss: 6.8312e-04\n",
      "Epoch 62/100\n",
      "13/13 [==============================] - 3s 198ms/step - loss: 0.0011 - val_loss: 7.9451e-04\n",
      "Epoch 63/100\n",
      "13/13 [==============================] - 2s 176ms/step - loss: 0.0010 - val_loss: 8.1247e-04\n",
      "Epoch 64/100\n",
      "13/13 [==============================] - 2s 170ms/step - loss: 0.0010 - val_loss: 0.0015\n",
      "Epoch 65/100\n",
      "13/13 [==============================] - 2s 175ms/step - loss: 0.0010 - val_loss: 6.3812e-04\n",
      "Epoch 66/100\n",
      "13/13 [==============================] - 3s 197ms/step - loss: 9.5140e-04 - val_loss: 6.1733e-04\n",
      "Epoch 67/100\n",
      "13/13 [==============================] - 3s 198ms/step - loss: 0.0010 - val_loss: 6.0933e-04\n",
      "Epoch 68/100\n",
      "13/13 [==============================] - 2s 188ms/step - loss: 0.0010 - val_loss: 0.0011\n",
      "Epoch 69/100\n",
      "13/13 [==============================] - 2s 184ms/step - loss: 0.0013 - val_loss: 6.2012e-04\n",
      "Epoch 70/100\n",
      "13/13 [==============================] - 2s 173ms/step - loss: 9.5136e-04 - val_loss: 8.1362e-04\n",
      "Epoch 71/100\n",
      "13/13 [==============================] - 2s 163ms/step - loss: 0.0011 - val_loss: 0.0012\n",
      "Epoch 72/100\n",
      "13/13 [==============================] - 3s 201ms/step - loss: 9.6334e-04 - val_loss: 7.2828e-04\n",
      "Epoch 73/100\n",
      "13/13 [==============================] - 2s 191ms/step - loss: 9.4211e-04 - val_loss: 0.0011\n",
      "Epoch 74/100\n",
      "13/13 [==============================] - 2s 193ms/step - loss: 0.0010 - val_loss: 0.0011\n",
      "Epoch 75/100\n",
      "13/13 [==============================] - 3s 194ms/step - loss: 8.9659e-04 - val_loss: 7.4919e-04\n",
      "Epoch 76/100\n",
      "13/13 [==============================] - 2s 180ms/step - loss: 9.6314e-04 - val_loss: 0.0010\n",
      "Epoch 77/100\n",
      "13/13 [==============================] - 2s 171ms/step - loss: 9.8912e-04 - val_loss: 6.9269e-04\n",
      "Epoch 78/100\n"
     ]
    },
    {
     "name": "stdout",
     "output_type": "stream",
     "text": [
      "13/13 [==============================] - 2s 193ms/step - loss: 8.4542e-04 - val_loss: 5.8234e-04\n",
      "Epoch 79/100\n",
      "13/13 [==============================] - 2s 189ms/step - loss: 8.9476e-04 - val_loss: 7.7586e-04\n",
      "Epoch 80/100\n",
      "13/13 [==============================] - 3s 197ms/step - loss: 9.5734e-04 - val_loss: 9.7173e-04\n",
      "Epoch 81/100\n",
      "13/13 [==============================] - 2s 188ms/step - loss: 0.0012 - val_loss: 7.4230e-04\n",
      "Epoch 82/100\n",
      "13/13 [==============================] - 2s 185ms/step - loss: 0.0011 - val_loss: 0.0012\n",
      "Epoch 83/100\n",
      "13/13 [==============================] - 2s 167ms/step - loss: 0.0011 - val_loss: 6.4618e-04\n",
      "Epoch 84/100\n",
      "13/13 [==============================] - 2s 186ms/step - loss: 8.3857e-04 - val_loss: 5.5547e-04\n",
      "Epoch 85/100\n",
      "13/13 [==============================] - 2s 192ms/step - loss: 8.0489e-04 - val_loss: 5.2923e-04\n",
      "Epoch 86/100\n",
      "13/13 [==============================] - 2s 192ms/step - loss: 8.9452e-04 - val_loss: 5.6771e-04\n",
      "Epoch 87/100\n",
      "13/13 [==============================] - 2s 185ms/step - loss: 8.9583e-04 - val_loss: 7.2318e-04\n",
      "Epoch 88/100\n",
      "13/13 [==============================] - 2s 185ms/step - loss: 7.8275e-04 - val_loss: 5.8980e-04\n",
      "Epoch 89/100\n",
      "13/13 [==============================] - 2s 187ms/step - loss: 7.7401e-04 - val_loss: 5.1421e-04\n",
      "Epoch 90/100\n",
      "13/13 [==============================] - 2s 163ms/step - loss: 7.8075e-04 - val_loss: 6.0388e-04\n",
      "Epoch 91/100\n",
      "13/13 [==============================] - 3s 197ms/step - loss: 8.0465e-04 - val_loss: 5.0039e-04\n",
      "Epoch 92/100\n",
      "13/13 [==============================] - 2s 193ms/step - loss: 7.5381e-04 - val_loss: 6.6434e-04\n",
      "Epoch 93/100\n",
      "13/13 [==============================] - 2s 182ms/step - loss: 8.5141e-04 - val_loss: 0.0017\n",
      "Epoch 94/100\n",
      "13/13 [==============================] - 2s 187ms/step - loss: 9.5349e-04 - val_loss: 0.0012\n",
      "Epoch 95/100\n",
      "13/13 [==============================] - 2s 176ms/step - loss: 9.1121e-04 - val_loss: 6.6927e-04\n",
      "Epoch 96/100\n",
      "13/13 [==============================] - 2s 170ms/step - loss: 9.1949e-04 - val_loss: 0.0011\n",
      "Epoch 97/100\n",
      "13/13 [==============================] - 3s 199ms/step - loss: 9.0918e-04 - val_loss: 9.7892e-04\n",
      "Epoch 98/100\n",
      "13/13 [==============================] - 3s 197ms/step - loss: 0.0010 - val_loss: 5.2007e-04\n",
      "Epoch 99/100\n",
      "13/13 [==============================] - 2s 187ms/step - loss: 7.9375e-04 - val_loss: 5.2178e-04\n",
      "Epoch 100/100\n",
      "13/13 [==============================] - 2s 188ms/step - loss: 7.7754e-04 - val_loss: 5.4824e-04\n"
     ]
    },
    {
     "data": {
      "text/plain": [
       "<keras.src.callbacks.History at 0x15c7afaa1d0>"
      ]
     },
     "execution_count": 38,
     "metadata": {},
     "output_type": "execute_result"
    }
   ],
   "source": [
    "model.fit(train_X, train_Y, validation_data = (test_X, test_Y), epochs = 100, batch_size = 64, verbose = 1)"
   ]
  },
  {
   "cell_type": "code",
   "execution_count": 39,
   "id": "e9faae42",
   "metadata": {},
   "outputs": [
    {
     "name": "stdout",
     "output_type": "stream",
     "text": [
      "25/25 [==============================] - 3s 52ms/step\n",
      "9/9 [==============================] - 1s 55ms/step\n"
     ]
    }
   ],
   "source": [
    "# Prediction and checing performance metrics\n",
    "train_predict = model.predict(train_X)\n",
    "test_predict = model.predict(test_X)"
   ]
  },
  {
   "cell_type": "code",
   "execution_count": 40,
   "id": "cc6b76e6",
   "metadata": {},
   "outputs": [],
   "source": [
    "# Transforming back to original form\n",
    "train_predict = scaler.inverse_transform(train_predict)\n",
    "test_predict = scaler.inverse_transform(test_predict)"
   ]
  },
  {
   "cell_type": "code",
   "execution_count": 41,
   "id": "d1376f26",
   "metadata": {},
   "outputs": [
    {
     "data": {
      "text/plain": [
       "219.4303472289397"
      ]
     },
     "execution_count": 41,
     "metadata": {},
     "output_type": "execute_result"
    }
   ],
   "source": [
    "# Checking performance of the model for the training data\n",
    "\n",
    "import math\n",
    "from sklearn.metrics import mean_squared_error, mean_absolute_percentage_error\n",
    "math.sqrt(mean_squared_error(train_Y, train_predict))"
   ]
  },
  {
   "cell_type": "code",
   "execution_count": 42,
   "id": "c99e8994",
   "metadata": {},
   "outputs": [
    {
     "data": {
      "text/plain": [
       "223.97753550273373"
      ]
     },
     "execution_count": 42,
     "metadata": {},
     "output_type": "execute_result"
    }
   ],
   "source": [
    "# RMSE for test data\n",
    "math.sqrt(mean_squared_error(test_Y, test_predict))"
   ]
  },
  {
   "cell_type": "code",
   "execution_count": 43,
   "id": "90b18a97",
   "metadata": {},
   "outputs": [
    {
     "data": {
      "image/png": "[encoded data removed]",
      "text/plain": [
       "<Figure size 640x480 with 1 Axes>"
      ]
     },
     "metadata": {},
     "output_type": "display_data"
    }
   ],
   "source": [
    "# Plotting the predicted values alongside the original values\n",
    "\n",
    "# Shift train predictions for plotting\n",
    "\n",
    "look_back = 100\n",
    "trainPredictPlot = np.empty_like(data)\n",
    "trainPredictPlot[:,:]=np.nan\n",
    "trainPredictPlot[look_back:len(train_predict)+look_back, :] = train_predict\n",
    "\n",
    "# Shift test predictions for plotting\n",
    "\n",
    "testPredictPlot = np.empty_like(data)\n",
    "testPredictPlot[:,:] = np.nan\n",
    "testPredictPlot[len(train_predict)+(look_back*2)+1:len(data)-1, :] = test_predict\n",
    "\n",
    "# Plot baseline and predictions\n",
    "\n",
    "plt.plot(scaler.inverse_transform(data))\n",
    "plt.plot(trainPredictPlot)\n",
    "plt.plot(testPredictPlot)\n",
    "plt.show()"
   ]
  },
  {
   "cell_type": "markdown",
   "id": "6d73e501",
   "metadata": {},
   "source": [
    "Here, the blue line shows the original values of dataset.\n",
    "\n",
    "Orange line = Model's prediction on Training data.\n",
    "\n",
    "Green line = Model's prediction on Testing data."
   ]
  },
  {
   "cell_type": "code",
   "execution_count": 44,
   "id": "e002bedb",
   "metadata": {},
   "outputs": [],
   "source": [
    "# Predicting the stock prices of next 30 days and then plotting it"
   ]
  },
  {
   "cell_type": "code",
   "execution_count": 45,
   "id": "d926a1c7",
   "metadata": {},
   "outputs": [
    {
     "data": {
      "text/plain": [
       "378"
      ]
     },
     "execution_count": 45,
     "metadata": {},
     "output_type": "execute_result"
    }
   ],
   "source": [
    "len(test_data)"
   ]
  },
  {
   "cell_type": "code",
   "execution_count": 46,
   "id": "13d33381",
   "metadata": {},
   "outputs": [],
   "source": [
    "input_x = test_data[278:].reshape(1,-1)"
   ]
  },
  {
   "cell_type": "code",
   "execution_count": 47,
   "id": "2c8361d8",
   "metadata": {},
   "outputs": [
    {
     "data": {
      "text/plain": [
       "(1, 100)"
      ]
     },
     "execution_count": 47,
     "metadata": {},
     "output_type": "execute_result"
    }
   ],
   "source": [
    "input_x.shape"
   ]
  },
  {
   "cell_type": "code",
   "execution_count": 48,
   "id": "83d264de",
   "metadata": {},
   "outputs": [],
   "source": [
    "# Converting the data into list\n",
    "\n",
    "temp_data = list(input_x)\n",
    "temp_data = temp_data[0].tolist()"
   ]
  },
  {
   "cell_type": "code",
   "execution_count": 49,
   "id": "3e14be9b",
   "metadata": {},
   "outputs": [
    {
     "data": {
      "text/plain": [
       "[0.5631328949616651,\n",
       " 0.5898639663148647,\n",
       " 0.583382183975461,\n",
       " 0.573182169906477,\n",
       " 0.5700417714862233,\n",
       " 0.5618767355935637,\n",
       " 0.5697654164252409,\n",
       " 0.5713984236037729,\n",
       " 0.5796137058711566,\n",
       " 0.5826284883546001,\n",
       " 0.5723279815361679,\n",
       " 0.5654693513863338,\n",
       " 0.5711974381048766,\n",
       " 0.6007423064426236,\n",
       " 0.6068974873463209,\n",
       " 0.6033299947409126,\n",
       " 0.616243313044996,\n",
       " 0.5909191401840699,\n",
       " 0.6094098060825238,\n",
       " 0.6044856613595659,\n",
       " 0.6147107986159122,\n",
       " 0.6268452981117725,\n",
       " 0.6060935453507359,\n",
       " 0.5942856472905819,\n",
       " 0.5941349081664097,\n",
       " 0.5690870903664661,\n",
       " 0.5677806846236406,\n",
       " 0.5666752643797113,\n",
       " 0.574111727838872,\n",
       " 0.5603190979771178,\n",
       " 0.5577565328661908,\n",
       " 0.5408737509589068,\n",
       " 0.519946135886336,\n",
       " 0.522508700997263,\n",
       " 0.5115549913074181,\n",
       " 0.5023347815455531,\n",
       " 0.5031136003537761,\n",
       " 0.4945968398380481,\n",
       " 0.495451028208357,\n",
       " 0.49215989066393123,\n",
       " 0.4288494585116162,\n",
       " 0.4304070961280621,\n",
       " 0.4497017040221009,\n",
       " 0.4513598343879949,\n",
       " 0.44055686382232206,\n",
       " 0.4445012042381608,\n",
       " 0.44211450143876796,\n",
       " 0.4249051180957776,\n",
       " 0.4350548857900376,\n",
       " 0.441285436255821,\n",
       " 0.44625982735350284,\n",
       " 0.45633422548567676,\n",
       " 0.4426672115607326,\n",
       " 0.4323415815549384,\n",
       " 0.44412435642773035,\n",
       " 0.47361897839075323,\n",
       " 0.4723628190226517,\n",
       " 0.4568115660455553,\n",
       " 0.45934900796912037,\n",
       " 0.46598152943269616,\n",
       " 0.452314515507752,\n",
       " 0.47098104371774013,\n",
       " 0.47181010890068703,\n",
       " 0.477613565181316,\n",
       " 0.4772115941835235,\n",
       " 0.4791209564230377,\n",
       " 0.4426923347480946,\n",
       " 0.42410117610019266,\n",
       " 0.4135494374081401,\n",
       " 0.41885042994152843,\n",
       " 0.4105346549246966,\n",
       " 0.4166395894536698,\n",
       " 0.4160617561443431,\n",
       " 0.39581246713054713,\n",
       " 0.3782764823518504,\n",
       " 0.38096466339958757,\n",
       " 0.406665684070944,\n",
       " 0.4004351336051606,\n",
       " 0.4113385969202815,\n",
       " 0.40420361170946506,\n",
       " 0.3992040974244212,\n",
       " 0.40372627114958654,\n",
       " 0.4163883575800495,\n",
       " 0.42181496605024793,\n",
       " 0.4116651983559879,\n",
       " 0.41023317667635223,\n",
       " 0.3886523587323687,\n",
       " 0.3930489165207239,\n",
       " 0.39990754667055806,\n",
       " 0.3843060473187376,\n",
       " 0.40460558270725755,\n",
       " 0.41440362577844914,\n",
       " 0.40154055384908993,\n",
       " 0.40867553905990633,\n",
       " 0.3997568075463859,\n",
       " 0.37571391724092335,\n",
       " 0.36473508436371643,\n",
       " 0.3605646352616194,\n",
       " 0.34669663583777904,\n",
       " 0.3394611578775145]"
      ]
     },
     "execution_count": 49,
     "metadata": {},
     "output_type": "execute_result"
    }
   ],
   "source": [
    "temp_data"
   ]
  },
  {
   "cell_type": "code",
   "execution_count": 50,
   "id": "66f65852",
   "metadata": {},
   "outputs": [
    {
     "name": "stdout",
     "output_type": "stream",
     "text": [
      "[0.36212248]\n",
      "101\n",
      "[0.36212248]\n",
      "102\n",
      "[0.36212248]\n",
      "103\n",
      "[0.36212248]\n",
      "104\n",
      "[0.36212248]\n",
      "105\n",
      "[0.36212248]\n",
      "106\n",
      "[0.36212248]\n",
      "107\n",
      "[0.36212248]\n",
      "108\n",
      "[0.36212248]\n",
      "109\n",
      "[0.36212248]\n",
      "110\n",
      "[0.36212248]\n",
      "111\n",
      "[0.36212248]\n",
      "112\n",
      "[0.36212248]\n",
      "113\n",
      "[0.36212248]\n",
      "114\n",
      "[0.36212248]\n",
      "115\n",
      "[0.36212248]\n",
      "116\n",
      "[0.36212248]\n",
      "117\n",
      "[0.36212248]\n",
      "118\n",
      "[0.36212248]\n",
      "119\n",
      "[0.36212248]\n",
      "120\n",
      "[0.36212248]\n",
      "121\n",
      "[0.36212248]\n",
      "122\n",
      "[0.36212248]\n",
      "123\n",
      "[0.36212248]\n",
      "124\n",
      "[0.36212248]\n",
      "125\n",
      "[0.36212248]\n",
      "126\n",
      "[0.36212248]\n",
      "127\n",
      "[0.36212248]\n",
      "128\n",
      "[0.36212248]\n",
      "129\n",
      "[0.36212248]\n",
      "130\n",
      "[[0.36212247610092163], [0.36212247610092163], [0.36212247610092163], [0.36212247610092163], [0.36212247610092163], [0.36212247610092163], [0.36212247610092163], [0.36212247610092163], [0.36212247610092163], [0.36212247610092163], [0.36212247610092163], [0.36212247610092163], [0.36212247610092163], [0.36212247610092163], [0.36212247610092163], [0.36212247610092163], [0.36212247610092163], [0.36212247610092163], [0.36212247610092163], [0.36212247610092163], [0.36212247610092163], [0.36212247610092163], [0.36212247610092163], [0.36212247610092163], [0.36212247610092163], [0.36212247610092163], [0.36212247610092163], [0.36212247610092163], [0.36212247610092163], [0.36212247610092163]]\n"
     ]
    }
   ],
   "source": [
    "# Predicting stock prices for next 30 days\n",
    "\n",
    "from numpy import array\n",
    "list_output = []\n",
    "n_steps = 100\n",
    "i = 0\n",
    "\n",
    "while(i<30):\n",
    "    if (len(temp_data)>150):\n",
    "        input_x = np.array(temp_data[1:])\n",
    "        print(\"{} day input {}\".format(1, input_x))\n",
    "        input_x = input_x.reshape(1,-1)\n",
    "        input_x = input_x.reshape((1, n_steps, 1))\n",
    "        yhat = model.predict(input_x, verbose = 0)\n",
    "        print(\"{} day output {}\".format(1, yhat))\n",
    "        temp_data.extend(yhat[0].tolist())\n",
    "        temp_data = temp_data[1:]\n",
    "        list_output.extend(yhat.tolist())\n",
    "        i = i+1\n",
    "        \n",
    "    else:\n",
    "        input_x = input_x.reshape((1, n_steps, 1))\n",
    "        yhat = model.predict(input_x, verbose =0)\n",
    "        print(yhat[0])\n",
    "        temp_data.extend(yhat[0].tolist())\n",
    "        print(len(temp_data))\n",
    "        list_output.extend(yhat.tolist())\n",
    "        i=i+1\n",
    "\n",
    "print(list_output)"
   ]
  },
  {
   "cell_type": "code",
   "execution_count": 51,
   "id": "b4689773",
   "metadata": {},
   "outputs": [],
   "source": [
    "day_new = np.arange(1,101)\n",
    "day_pred = np.arange(101,131)"
   ]
  },
  {
   "cell_type": "code",
   "execution_count": 52,
   "id": "28053c59",
   "metadata": {},
   "outputs": [
    {
     "data": {
      "text/plain": [
       "1259"
      ]
     },
     "execution_count": 52,
     "metadata": {},
     "output_type": "execute_result"
    }
   ],
   "source": [
    "len(data)"
   ]
  },
  {
   "cell_type": "code",
   "execution_count": 53,
   "id": "2c897a49",
   "metadata": {},
   "outputs": [],
   "source": [
    "df2 = data.tolist()\n",
    "df2.extend(list_output)"
   ]
  },
  {
   "cell_type": "code",
   "execution_count": 55,
   "id": "52bdcc0a",
   "metadata": {},
   "outputs": [
    {
     "data": {
      "text/plain": [
       "[<matplotlib.lines.Line2D at 0x15c0a59c2b0>]"
      ]
     },
     "execution_count": 55,
     "metadata": {},
     "output_type": "execute_result"
    },
    {
     "data": {
      "image/png": "[encoded data removed]",
      "text/plain": [
       "<Figure size 640x480 with 1 Axes>"
      ]
     },
     "metadata": {},
     "output_type": "display_data"
    }
   ],
   "source": [
    "plt.plot(day_new, scaler.inverse_transform(data[1159:]))\n",
    "plt.plot(day_pred, scaler.inverse_transform(list_output))"
   ]
  },
  {
   "cell_type": "code",
   "execution_count": 56,
   "id": "f282005c",
   "metadata": {},
   "outputs": [
    {
     "data": {
      "text/plain": [
       "[<matplotlib.lines.Line2D at 0x15c0a601d20>]"
      ]
     },
     "execution_count": 56,
     "metadata": {},
     "output_type": "execute_result"
    },
    {
     "data": {
      "image/png": "[encoded data removed]",
      "text/plain": [
       "<Figure size 640x480 with 1 Axes>"
      ]
     },
     "metadata": {},
     "output_type": "display_data"
    }
   ],
   "source": [
    "df2 = data.tolist()\n",
    "df2.extend(list_output)\n",
    "plt.plot(df2[1000:])"
   ]
  },
  {
   "cell_type": "markdown",
   "id": "19d6acfd",
   "metadata": {},
   "source": [
    "So, the stock price of tesla will be around $155 for the next 30 days"
   ]
  },
  {
   "cell_type": "code",
   "execution_count": null,
   "id": "2f79cd62",
   "metadata": {},
   "outputs": [],
   "source": []
  }
 ],
 "metadata": {
  "kernelspec": {
   "display_name": "Python 3 (ipykernel)",
   "language": "python",
   "name": "python3"
  },
  "language_info": {
   "codemirror_mode": {
    "name": "ipython",
    "version": 3
   },
   "file_extension": ".py",
   "mimetype": "text/x-python",
   "name": "python",
   "nbconvert_exporter": "python",
   "pygments_lexer": "ipython3",
   "version": "3.10.14"
  }
 },
 "nbformat": 4,
 "nbformat_minor": 5
}
